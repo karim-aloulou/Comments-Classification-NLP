{
 "cells": [
  {
   "cell_type": "code",
   "execution_count": 15,
   "id": "a4e304b6",
   "metadata": {},
   "outputs": [],
   "source": [
    "import pandas as pd\n",
    "import openpyxl\n",
    "\n",
    "# Chemins des fichiers XLSX\n",
    "file1 = 'comment.xlsx'\n",
    "file2 = 'products.xlsx'\n",
    "file3 = 'tun-names.xlsx'\n",
    "\n",
    "# Lecture des fichiers XLSX\n",
    "dfcomment = pd.read_excel(file1)\n",
    "dfproducts = pd.read_excel(file2)\n",
    "\n",
    "# Lecture de la première feuille du fichier 3\n",
    "wb = openpyxl.load_workbook(file3)\n",
    "sheet_names = wb.sheetnames\n",
    "dffirst_name = pd.read_excel(file3, sheet_name=sheet_names[0])\n",
    "\n",
    "# Lecture de la deuxième feuille du fichier 3\n",
    "dflast_name = pd.read_excel(file3, sheet_name=sheet_names[1])\n",
    "\n"
   ]
  },
  {
   "cell_type": "code",
   "execution_count": 16,
   "id": "a35f895b",
   "metadata": {},
   "outputs": [
    {
     "data": {
      "text/html": [
       "<div>\n",
       "<style scoped>\n",
       "    .dataframe tbody tr th:only-of-type {\n",
       "        vertical-align: middle;\n",
       "    }\n",
       "\n",
       "    .dataframe tbody tr th {\n",
       "        vertical-align: top;\n",
       "    }\n",
       "\n",
       "    .dataframe thead th {\n",
       "        text-align: right;\n",
       "    }\n",
       "</style>\n",
       "<table border=\"1\" class=\"dataframe\">\n",
       "  <thead>\n",
       "    <tr style=\"text-align: right;\">\n",
       "      <th></th>\n",
       "      <th>comment</th>\n",
       "    </tr>\n",
       "  </thead>\n",
       "  <tbody>\n",
       "    <tr>\n",
       "      <th>0</th>\n",
       "      <td>Medecin Karim  n'est pas satisfait de l'utilis...</td>\n",
       "    </tr>\n",
       "  </tbody>\n",
       "</table>\n",
       "</div>"
      ],
      "text/plain": [
       "                                             comment\n",
       "0  Medecin Karim  n'est pas satisfait de l'utilis..."
      ]
     },
     "execution_count": 16,
     "metadata": {},
     "output_type": "execute_result"
    }
   ],
   "source": [
    "#afficher la data frame contenant les noms des produits\n",
    "dfproducts\n",
    "#afficher la data frame contenant les prénoms\n",
    "dffirst_name\n",
    "#afficher la data frame contenant les noms\n",
    "dflast_name\n",
    "#afficher la data frame contenant les commentaires\n",
    "dfcomment"
   ]
  },
  {
   "cell_type": "code",
   "execution_count": 17,
   "id": "a3fa696b",
   "metadata": {},
   "outputs": [],
   "source": [
    "def comment_to_list(comment):\n",
    "    return comment.split()"
   ]
  },
  {
   "cell_type": "code",
   "execution_count": 18,
   "id": "d58c2c34",
   "metadata": {},
   "outputs": [],
   "source": [
    "def replace_words(data, df):\n",
    "    dffirst_name['first_name'] = dffirst_name['first_name'].str.replace(' ', '')  # éliminer les espaces\n",
    "    dflast_name['last_name'] = dflast_name['last_name'].str.replace(' ', '')  # éliminer les espaces\n",
    "    for i, word in enumerate(data):\n",
    "        if word in dffirst_name['first_name'].tolist() or word in dflast_name['last_name'].tolist() :\n",
    "            data[i] = 'prospect'\n",
    "        if word in dfproducts['products'].tolist():\n",
    "            data[i] = 'produit'\n",
    "    return data"
   ]
  },
  {
   "cell_type": "code",
   "execution_count": 19,
   "id": "8e423e9e",
   "metadata": {},
   "outputs": [],
   "source": [
    "def process_comments(df):\n",
    "    for i in range(len(dfcomment['comment'])):\n",
    "        if isinstance(dfcomment['comment'][i], str):  # vérifie si le commentaire est une chaîne\n",
    "            comment_list = comment_to_list(dfcomment['comment'][i])\n",
    "            new_comment = replace_words(comment_list, df)\n",
    "            dfcomment.at[i, 'comment'] = ' '.join(new_comment) # assign new_comment as a list\n",
    "    return df\n"
   ]
  },
  {
   "cell_type": "code",
   "execution_count": 20,
   "id": "b91a7875",
   "metadata": {},
   "outputs": [
    {
     "data": {
      "text/html": [
       "<div>\n",
       "<style scoped>\n",
       "    .dataframe tbody tr th:only-of-type {\n",
       "        vertical-align: middle;\n",
       "    }\n",
       "\n",
       "    .dataframe tbody tr th {\n",
       "        vertical-align: top;\n",
       "    }\n",
       "\n",
       "    .dataframe thead th {\n",
       "        text-align: right;\n",
       "    }\n",
       "</style>\n",
       "<table border=\"1\" class=\"dataframe\">\n",
       "  <thead>\n",
       "    <tr style=\"text-align: right;\">\n",
       "      <th></th>\n",
       "      <th>comment</th>\n",
       "    </tr>\n",
       "  </thead>\n",
       "  <tbody>\n",
       "    <tr>\n",
       "      <th>0</th>\n",
       "      <td>Medecin prospect n'est pas satisfait de l'util...</td>\n",
       "    </tr>\n",
       "  </tbody>\n",
       "</table>\n",
       "</div>"
      ],
      "text/plain": [
       "                                             comment\n",
       "0  Medecin prospect n'est pas satisfait de l'util..."
      ]
     },
     "execution_count": 20,
     "metadata": {},
     "output_type": "execute_result"
    }
   ],
   "source": [
    "dfnew_comment = dfcomment.copy()\n",
    "dfnew_comment = process_comments(dfcomment)\n",
    "dfnew_comment"
   ]
  },
  {
   "cell_type": "code",
   "execution_count": 22,
   "id": "ce24a478",
   "metadata": {},
   "outputs": [],
   "source": [
    "# Écrir le DataFrame dans un fichier Excel\n",
    "dfnew_comment.to_excel('new_comment.xlsx', index=False)"
   ]
  },
  {
   "cell_type": "code",
   "execution_count": null,
   "id": "95a2ca03",
   "metadata": {},
   "outputs": [],
   "source": []
  },
  {
   "cell_type": "code",
   "execution_count": null,
   "id": "6a1a1062",
   "metadata": {},
   "outputs": [],
   "source": []
  }
 ],
 "metadata": {
  "kernelspec": {
   "display_name": "Python 3 (ipykernel)",
   "language": "python",
   "name": "python3"
  },
  "language_info": {
   "codemirror_mode": {
    "name": "ipython",
    "version": 3
   },
   "file_extension": ".py",
   "mimetype": "text/x-python",
   "name": "python",
   "nbconvert_exporter": "python",
   "pygments_lexer": "ipython3",
   "version": "3.9.12"
  }
 },
 "nbformat": 4,
 "nbformat_minor": 5
}
